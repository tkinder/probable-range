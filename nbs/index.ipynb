{
 "cells": [
  {
   "cell_type": "code",
   "execution_count": null,
   "metadata": {},
   "outputs": [],
   "source": [
    "#| hide\n",
    "1  Features\n",
    "2  Pip Install\n",
    "3  Git Install\n",
    "4  Additional requirements\n",
    "5  How to use\n",
    "6  What the Hell!!\n",
    "from tkinder/probable_range.core import *"
   ]
  },
  {
   "cell_type": "markdown",
   "metadata": {},
   "source": [
    "# tkinder/probable-range\n",
    "\n",
    "> DJIA Price Data Downloader, Predictor & Blogger"
   ]
  },
  {
   "cell_type": "markdown",
   "metadata": {},
   "source": [
    "## Features"
   ]
  },
  {
   "cell_type": "markdown",
   "metadata": {},
   "source": [
    "- Downloads DJIA price data from yfinance and stores it in a dataframe\n",
    "- Performs calculations to determine a probable high and low price\n",
    "- Records previous business day's open, high, low and close prices (OHLC)\n",
    "- Places OHLC and probable high and low prices into a template\n",
    "- Posts template information to Blogger as a blog post"
   ]
  },
  {
   "cell_type": "markdown",
   "metadata": {},
   "source": [
    "## Pip install"
   ]
  },
  {
   "cell_type": "markdown",
   "metadata": {},
   "source": [
    "`pip install tkinder/probable_range`"
   ]
  },
  {
   "cell_type": "markdown",
   "metadata": {},
   "source": [
    "## Git install"
   ]
  },
  {
   "cell_type": "markdown",
   "metadata": {},
   "source": [
    "`git clone https://github.com/tkinder/probable_range.git`"
   ]
  },
  {
   "cell_type": "markdown",
   "metadata": {},
   "source": [
    "`cd probable_range`"
   ]
  },
  {
   "cell_type": "markdown",
   "metadata": {},
   "source": [
    "`python setup.py install`"
   ]
  },
  {
   "cell_type": "markdown",
   "metadata": {},
   "source": [
    "## Additional requirements"
   ]
  },
  {
   "cell_type": "markdown",
   "metadata": {},
   "source": [
    "- Blogger.com account\n",
    "- Your Blogger.com blog ID, more info [here](https://support.google.com/blogger/thread/211636138/where-can-i-find-the-id-of-my-blog?hl=en \"How to find your Blogger blog ID\") \n",
    "- A Google Cloud Console [account](https://console.cloud.google.com/ \"Google Cloud Console\")\n",
    "- Blogger [API](https://console.cloud.google.com/apis/library/blogger.googleapis.com \"Blogger API\")\n",
    "- Google OAuth 2.0 [client](https://support.google.com/cloud/answer/6158849?hl=en \"Setting up Google OAuth 2.0\") for client_secret json \n",
    "- Google OAuth [consent screen](https://console.cloud.google.com/apis/credentials/consent \"Setting up consent screen for Blogger\") to post Blogger post\n",
    "- A service [account](https://cloud.google.com/iam/docs/service-account-overview \"Setting up Google service account\") for service_account_credentials json - referred to in credentials and SERVICE_ACCOUNT_FILE lines of DJIA-probable-post-to-blogger.py\n"
   ]
  },
  {
   "cell_type": "markdown",
   "metadata": {},
   "source": [
    "## How to use"
   ]
  },
  {
   "cell_type": "markdown",
   "metadata": {},
   "source": [
    "Fill me in please! Don't forget code examples:"
   ]
  },
  {
   "cell_type": "code",
   "execution_count": null,
   "metadata": {},
   "outputs": [
    {
     "data": {
      "text/plain": [
       "2"
      ]
     },
     "execution_count": null,
     "metadata": {},
     "output_type": "execute_result"
    }
   ],
   "source": [
    "1+1"
   ]
  },
  {
   "cell_type": "markdown",
   "metadata": {},
   "source": [
    "## What the Hell!!"
   ]
  },
  {
   "cell_type": "code",
   "execution_count": null,
   "metadata": {},
   "outputs": [],
   "source": [
    "What the hell is this?"
   ]
  }
 ],
 "metadata": {
  "kernelspec": {
   "display_name": "python3",
   "language": "python",
   "name": "python3"
  }
 },
 "nbformat": 4,
 "nbformat_minor": 4
}
